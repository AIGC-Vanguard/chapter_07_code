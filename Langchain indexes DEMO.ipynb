{
 "cells": [
  {
   "cell_type": "code",
   "execution_count": 1,
   "id": "6f9eb680",
   "metadata": {},
   "outputs": [
    {
     "name": "stdout",
     "output_type": "stream",
     "text": [
      "\u001b[33mDEPRECATION: Configuring installation scheme with distutils config files is deprecated and will no longer work in the near future. If you are using a Homebrew or Linuxbrew Python, please see discussion at https://github.com/Homebrew/homebrew-core/issues/76621\u001b[0m\u001b[33m\n",
      "\u001b[0mLooking in indexes: https://pypi.tuna.tsinghua.edu.cn/simple\n",
      "Requirement already satisfied: langchain in /opt/homebrew/lib/python3.9/site-packages (0.0.193)\n",
      "Requirement already satisfied: openai in /opt/homebrew/lib/python3.9/site-packages (0.27.8)\n",
      "Requirement already satisfied: chromadb in /opt/homebrew/lib/python3.9/site-packages (0.3.26)\n",
      "Requirement already satisfied: tiktoken in /opt/homebrew/lib/python3.9/site-packages (0.4.0)\n",
      "Requirement already satisfied: unstructured in /opt/homebrew/lib/python3.9/site-packages (0.7.1)\n",
      "Requirement already satisfied: tabulate in /opt/homebrew/lib/python3.9/site-packages (0.9.0)\n",
      "Requirement already satisfied: PyYAML>=5.4.1 in /opt/homebrew/lib/python3.9/site-packages (from langchain) (6.0)\n",
      "Requirement already satisfied: SQLAlchemy<3,>=1.4 in /opt/homebrew/lib/python3.9/site-packages (from langchain) (2.0.15)\n",
      "Requirement already satisfied: aiohttp<4.0.0,>=3.8.3 in /opt/homebrew/lib/python3.9/site-packages (from langchain) (3.8.4)\n",
      "Requirement already satisfied: async-timeout<5.0.0,>=4.0.0 in /opt/homebrew/lib/python3.9/site-packages (from langchain) (4.0.2)\n",
      "Requirement already satisfied: dataclasses-json<0.6.0,>=0.5.7 in /opt/homebrew/lib/python3.9/site-packages (from langchain) (0.5.7)\n",
      "Requirement already satisfied: langchainplus-sdk<0.0.5,>=0.0.4 in /opt/homebrew/lib/python3.9/site-packages (from langchain) (0.0.4)\n",
      "Requirement already satisfied: numexpr<3.0.0,>=2.8.4 in /opt/homebrew/lib/python3.9/site-packages (from langchain) (2.8.4)\n",
      "Requirement already satisfied: numpy<2,>=1 in /opt/homebrew/lib/python3.9/site-packages (from langchain) (1.23.5)\n",
      "Requirement already satisfied: openapi-schema-pydantic<2.0,>=1.2 in /opt/homebrew/lib/python3.9/site-packages (from langchain) (1.2.4)\n",
      "Requirement already satisfied: pydantic<2,>=1 in /opt/homebrew/lib/python3.9/site-packages (from langchain) (1.10.8)\n",
      "Requirement already satisfied: requests<3,>=2 in /opt/homebrew/lib/python3.9/site-packages (from langchain) (2.31.0)\n",
      "Requirement already satisfied: tenacity<9.0.0,>=8.1.0 in /opt/homebrew/lib/python3.9/site-packages (from langchain) (8.2.2)\n",
      "Requirement already satisfied: tqdm in /opt/homebrew/lib/python3.9/site-packages (from openai) (4.65.0)\n",
      "Requirement already satisfied: pandas>=1.3 in /opt/homebrew/lib/python3.9/site-packages (from chromadb) (1.5.3)\n",
      "Requirement already satisfied: hnswlib>=0.7 in /opt/homebrew/lib/python3.9/site-packages (from chromadb) (0.7.0)\n",
      "Requirement already satisfied: clickhouse-connect>=0.5.7 in /opt/homebrew/lib/python3.9/site-packages (from chromadb) (0.6.1)\n",
      "Requirement already satisfied: duckdb>=0.7.1 in /opt/homebrew/lib/python3.9/site-packages (from chromadb) (0.8.0)\n",
      "Requirement already satisfied: fastapi>=0.85.1 in /opt/homebrew/lib/python3.9/site-packages (from chromadb) (0.96.0)\n",
      "Requirement already satisfied: uvicorn[standard]>=0.18.3 in /opt/homebrew/lib/python3.9/site-packages (from chromadb) (0.22.0)\n",
      "Requirement already satisfied: posthog>=2.4.0 in /opt/homebrew/lib/python3.9/site-packages (from chromadb) (3.0.1)\n",
      "Requirement already satisfied: typing-extensions>=4.5.0 in /opt/homebrew/lib/python3.9/site-packages (from chromadb) (4.6.3)\n",
      "Requirement already satisfied: pulsar-client>=3.1.0 in /opt/homebrew/lib/python3.9/site-packages (from chromadb) (3.1.0)\n",
      "Requirement already satisfied: onnxruntime>=1.14.1 in /opt/homebrew/lib/python3.9/site-packages (from chromadb) (1.15.0)\n",
      "Requirement already satisfied: tokenizers>=0.13.2 in /opt/homebrew/lib/python3.9/site-packages (from chromadb) (0.13.3)\n",
      "Requirement already satisfied: overrides>=7.3.1 in /opt/homebrew/lib/python3.9/site-packages (from chromadb) (7.3.1)\n",
      "Requirement already satisfied: regex>=2022.1.18 in /opt/homebrew/lib/python3.9/site-packages (from tiktoken) (2023.5.5)\n",
      "Requirement already satisfied: argilla in /opt/homebrew/lib/python3.9/site-packages (from unstructured) (1.8.0)\n",
      "Requirement already satisfied: chardet in /opt/homebrew/lib/python3.9/site-packages (from unstructured) (5.1.0)\n",
      "Requirement already satisfied: lxml in /opt/homebrew/lib/python3.9/site-packages (from unstructured) (4.9.2)\n",
      "Requirement already satisfied: msg-parser in /opt/homebrew/lib/python3.9/site-packages (from unstructured) (1.2.0)\n",
      "Requirement already satisfied: nltk in /opt/homebrew/lib/python3.9/site-packages (from unstructured) (3.8.1)\n",
      "Requirement already satisfied: openpyxl in /opt/homebrew/lib/python3.9/site-packages (from unstructured) (3.1.2)\n",
      "Requirement already satisfied: pdfminer.six in /opt/homebrew/lib/python3.9/site-packages (from unstructured) (20221105)\n",
      "Requirement already satisfied: pillow in /opt/homebrew/lib/python3.9/site-packages (from unstructured) (9.5.0)\n",
      "Requirement already satisfied: pypandoc in /opt/homebrew/lib/python3.9/site-packages (from unstructured) (1.11)\n",
      "Requirement already satisfied: python-docx in /opt/homebrew/lib/python3.9/site-packages (from unstructured) (0.8.11)\n",
      "Requirement already satisfied: python-pptx in /opt/homebrew/lib/python3.9/site-packages (from unstructured) (0.6.21)\n",
      "Requirement already satisfied: python-magic in /opt/homebrew/lib/python3.9/site-packages (from unstructured) (0.4.27)\n",
      "Requirement already satisfied: markdown in /opt/homebrew/lib/python3.9/site-packages (from unstructured) (3.4.3)\n",
      "Requirement already satisfied: xlrd in /opt/homebrew/lib/python3.9/site-packages (from unstructured) (2.0.1)\n",
      "Requirement already satisfied: attrs>=17.3.0 in /opt/homebrew/lib/python3.9/site-packages (from aiohttp<4.0.0,>=3.8.3->langchain) (21.4.0)\n",
      "Requirement already satisfied: charset-normalizer<4.0,>=2.0 in /opt/homebrew/lib/python3.9/site-packages (from aiohttp<4.0.0,>=3.8.3->langchain) (3.1.0)\n",
      "Requirement already satisfied: multidict<7.0,>=4.5 in /opt/homebrew/lib/python3.9/site-packages (from aiohttp<4.0.0,>=3.8.3->langchain) (6.0.4)\n",
      "Requirement already satisfied: yarl<2.0,>=1.0 in /opt/homebrew/lib/python3.9/site-packages (from aiohttp<4.0.0,>=3.8.3->langchain) (1.9.2)\n",
      "Requirement already satisfied: frozenlist>=1.1.1 in /opt/homebrew/lib/python3.9/site-packages (from aiohttp<4.0.0,>=3.8.3->langchain) (1.3.3)\n",
      "Requirement already satisfied: aiosignal>=1.1.2 in /opt/homebrew/lib/python3.9/site-packages (from aiohttp<4.0.0,>=3.8.3->langchain) (1.3.1)\n",
      "Requirement already satisfied: certifi in /opt/homebrew/lib/python3.9/site-packages (from clickhouse-connect>=0.5.7->chromadb) (2023.5.7)\n",
      "Requirement already satisfied: urllib3>=1.26 in /opt/homebrew/lib/python3.9/site-packages (from clickhouse-connect>=0.5.7->chromadb) (2.0.2)\n",
      "Requirement already satisfied: pytz in /opt/homebrew/lib/python3.9/site-packages (from clickhouse-connect>=0.5.7->chromadb) (2023.3)\n",
      "Requirement already satisfied: zstandard in /opt/homebrew/lib/python3.9/site-packages (from clickhouse-connect>=0.5.7->chromadb) (0.21.0)\n",
      "Requirement already satisfied: lz4 in /opt/homebrew/lib/python3.9/site-packages (from clickhouse-connect>=0.5.7->chromadb) (4.3.2)\n",
      "Requirement already satisfied: marshmallow<4.0.0,>=3.3.0 in /opt/homebrew/lib/python3.9/site-packages (from dataclasses-json<0.6.0,>=0.5.7->langchain) (3.19.0)\n",
      "Requirement already satisfied: marshmallow-enum<2.0.0,>=1.5.1 in /opt/homebrew/lib/python3.9/site-packages (from dataclasses-json<0.6.0,>=0.5.7->langchain) (1.5.1)\n",
      "Requirement already satisfied: typing-inspect>=0.4.0 in /opt/homebrew/lib/python3.9/site-packages (from dataclasses-json<0.6.0,>=0.5.7->langchain) (0.9.0)\n",
      "Requirement already satisfied: starlette<0.28.0,>=0.27.0 in /opt/homebrew/lib/python3.9/site-packages (from fastapi>=0.85.1->chromadb) (0.27.0)\n",
      "Requirement already satisfied: coloredlogs in /opt/homebrew/lib/python3.9/site-packages (from onnxruntime>=1.14.1->chromadb) (15.0.1)\n",
      "Requirement already satisfied: flatbuffers in /opt/homebrew/lib/python3.9/site-packages (from onnxruntime>=1.14.1->chromadb) (23.5.26)\n",
      "Requirement already satisfied: packaging in /opt/homebrew/lib/python3.9/site-packages (from onnxruntime>=1.14.1->chromadb) (21.3)\n",
      "Requirement already satisfied: protobuf in /opt/homebrew/lib/python3.9/site-packages (from onnxruntime>=1.14.1->chromadb) (4.23.2)\n",
      "Requirement already satisfied: sympy in /opt/homebrew/lib/python3.9/site-packages (from onnxruntime>=1.14.1->chromadb) (1.12)\n",
      "Requirement already satisfied: python-dateutil>=2.8.1 in /opt/homebrew/lib/python3.9/site-packages (from pandas>=1.3->chromadb) (2.8.2)\n",
      "Requirement already satisfied: six>=1.5 in /opt/homebrew/lib/python3.9/site-packages (from posthog>=2.4.0->chromadb) (1.16.0)\n",
      "Requirement already satisfied: monotonic>=1.5 in /opt/homebrew/lib/python3.9/site-packages (from posthog>=2.4.0->chromadb) (1.6)\n",
      "Requirement already satisfied: backoff>=1.10.0 in /opt/homebrew/lib/python3.9/site-packages (from posthog>=2.4.0->chromadb) (2.2.1)\n"
     ]
    },
    {
     "name": "stdout",
     "output_type": "stream",
     "text": [
      "Requirement already satisfied: idna<4,>=2.5 in /opt/homebrew/lib/python3.9/site-packages (from requests<3,>=2->langchain) (3.4)\n",
      "Requirement already satisfied: click>=7.0 in /opt/homebrew/lib/python3.9/site-packages (from uvicorn[standard]>=0.18.3->chromadb) (8.0.3)\n",
      "Requirement already satisfied: h11>=0.8 in /opt/homebrew/lib/python3.9/site-packages (from uvicorn[standard]>=0.18.3->chromadb) (0.14.0)\n",
      "Requirement already satisfied: httptools>=0.5.0 in /opt/homebrew/lib/python3.9/site-packages (from uvicorn[standard]>=0.18.3->chromadb) (0.5.0)\n",
      "Requirement already satisfied: python-dotenv>=0.13 in /opt/homebrew/lib/python3.9/site-packages (from uvicorn[standard]>=0.18.3->chromadb) (1.0.0)\n",
      "Requirement already satisfied: uvloop!=0.15.0,!=0.15.1,>=0.14.0 in /opt/homebrew/lib/python3.9/site-packages (from uvicorn[standard]>=0.18.3->chromadb) (0.17.0)\n",
      "Requirement already satisfied: watchfiles>=0.13 in /opt/homebrew/lib/python3.9/site-packages (from uvicorn[standard]>=0.18.3->chromadb) (0.19.0)\n",
      "Requirement already satisfied: websockets>=10.4 in /opt/homebrew/lib/python3.9/site-packages (from uvicorn[standard]>=0.18.3->chromadb) (11.0.3)\n",
      "Requirement already satisfied: httpx<0.24,>=0.15 in /opt/homebrew/lib/python3.9/site-packages (from argilla->unstructured) (0.23.3)\n",
      "Requirement already satisfied: deprecated~=1.2.0 in /opt/homebrew/lib/python3.9/site-packages (from argilla->unstructured) (1.2.14)\n",
      "Requirement already satisfied: wrapt<1.15,>=1.13 in /opt/homebrew/lib/python3.9/site-packages (from argilla->unstructured) (1.14.1)\n",
      "Requirement already satisfied: rich<=13.0.1 in /opt/homebrew/lib/python3.9/site-packages (from argilla->unstructured) (13.0.1)\n",
      "Requirement already satisfied: typer<1.0.0,>=0.6.0 in /opt/homebrew/lib/python3.9/site-packages (from argilla->unstructured) (0.9.0)\n",
      "Requirement already satisfied: importlib-metadata>=4.4 in /opt/homebrew/lib/python3.9/site-packages (from markdown->unstructured) (6.6.0)\n",
      "Requirement already satisfied: olefile>=0.46 in /opt/homebrew/lib/python3.9/site-packages (from msg-parser->unstructured) (0.46)\n",
      "Requirement already satisfied: joblib in /opt/homebrew/lib/python3.9/site-packages (from nltk->unstructured) (1.2.0)\n",
      "Requirement already satisfied: et-xmlfile in /opt/homebrew/lib/python3.9/site-packages (from openpyxl->unstructured) (1.1.0)\n",
      "Requirement already satisfied: cryptography>=36.0.0 in /opt/homebrew/lib/python3.9/site-packages (from pdfminer.six->unstructured) (41.0.1)\n",
      "Requirement already satisfied: XlsxWriter>=0.5.7 in /opt/homebrew/lib/python3.9/site-packages (from python-pptx->unstructured) (3.1.2)\n",
      "Requirement already satisfied: cffi>=1.12 in /opt/homebrew/lib/python3.9/site-packages (from cryptography>=36.0.0->pdfminer.six->unstructured) (1.15.0)\n",
      "Requirement already satisfied: httpcore<0.17.0,>=0.15.0 in /opt/homebrew/lib/python3.9/site-packages (from httpx<0.24,>=0.15->argilla->unstructured) (0.16.3)\n",
      "Requirement already satisfied: rfc3986[idna2008]<2,>=1.3 in /opt/homebrew/lib/python3.9/site-packages (from httpx<0.24,>=0.15->argilla->unstructured) (1.5.0)\n",
      "Requirement already satisfied: sniffio in /opt/homebrew/lib/python3.9/site-packages (from httpx<0.24,>=0.15->argilla->unstructured) (1.3.0)\n",
      "Requirement already satisfied: zipp>=0.5 in /opt/homebrew/lib/python3.9/site-packages (from importlib-metadata>=4.4->markdown->unstructured) (3.15.0)\n",
      "Requirement already satisfied: pyparsing!=3.0.5,>=2.0.2 in /opt/homebrew/lib/python3.9/site-packages (from packaging->onnxruntime>=1.14.1->chromadb) (3.0.7)\n",
      "Requirement already satisfied: commonmark<0.10.0,>=0.9.0 in /opt/homebrew/lib/python3.9/site-packages (from rich<=13.0.1->argilla->unstructured) (0.9.1)\n",
      "Requirement already satisfied: pygments<3.0.0,>=2.6.0 in /opt/homebrew/lib/python3.9/site-packages (from rich<=13.0.1->argilla->unstructured) (2.11.2)\n",
      "Requirement already satisfied: anyio<5,>=3.4.0 in /opt/homebrew/lib/python3.9/site-packages (from starlette<0.28.0,>=0.27.0->fastapi>=0.85.1->chromadb) (3.7.0)\n",
      "Requirement already satisfied: mypy-extensions>=0.3.0 in /opt/homebrew/lib/python3.9/site-packages (from typing-inspect>=0.4.0->dataclasses-json<0.6.0,>=0.5.7->langchain) (0.4.3)\n",
      "Requirement already satisfied: humanfriendly>=9.1 in /opt/homebrew/lib/python3.9/site-packages (from coloredlogs->onnxruntime>=1.14.1->chromadb) (10.0)\n",
      "Requirement already satisfied: mpmath>=0.19 in /opt/homebrew/lib/python3.9/site-packages (from sympy->onnxruntime>=1.14.1->chromadb) (1.3.0)\n",
      "Requirement already satisfied: exceptiongroup in /opt/homebrew/lib/python3.9/site-packages (from anyio<5,>=3.4.0->starlette<0.28.0,>=0.27.0->fastapi>=0.85.1->chromadb) (1.1.1)\n",
      "Requirement already satisfied: pycparser in /opt/homebrew/lib/python3.9/site-packages (from cffi>=1.12->cryptography>=36.0.0->pdfminer.six->unstructured) (2.21)\n",
      "\u001b[33mDEPRECATION: Configuring installation scheme with distutils config files is deprecated and will no longer work in the near future. If you are using a Homebrew or Linuxbrew Python, please see discussion at https://github.com/Homebrew/homebrew-core/issues/76621\u001b[0m\u001b[33m\n",
      "\u001b[0m"
     ]
    }
   ],
   "source": [
    "!pip install langchain openai chromadb tiktoken unstructured tabulate"
   ]
  },
  {
   "cell_type": "code",
   "execution_count": 1,
   "id": "b871a611",
   "metadata": {},
   "outputs": [],
   "source": [
    "# OpenAI AI2D 代理\n",
    "from langchain import PromptTemplate, OpenAI, LLMChain\n",
    "import os\n",
    "import llm_config\n",
    "\n",
    "os.environ['OPENAI_API_BASE'] = llm_config.MY_OPENAI_API_BASE\n",
    "os.environ['OPENAI_API_KEY'] = llm_config.MY_OPENAI_API_KEY\n",
    "\n",
    "llm=OpenAI(\n",
    "    temperature=0\n",
    ")"
   ]
  },
  {
   "cell_type": "code",
   "execution_count": 2,
   "id": "a589bd7a",
   "metadata": {},
   "outputs": [],
   "source": [
    "from langchain.document_loaders import TextLoader,UnstructuredMarkdownLoader\n",
    "\n",
    "loader = TextLoader('./MenuTest.txt', encoding='utf8')\n",
    "\n",
    "# markdown_path = \"./MenuTest.md\"\n",
    "# loaderMD = UnstructuredMarkdownLoader(markdown_path)"
   ]
  },
  {
   "cell_type": "code",
   "execution_count": 3,
   "id": "8ae3b18a",
   "metadata": {},
   "outputs": [],
   "source": [
    "from langchain.indexes import VectorstoreIndexCreator\n",
    "# try:\n",
    "index = VectorstoreIndexCreator().from_loaders([loader])\n",
    "# except Exception as err:\n",
    "#     print(\"error: {0}\".format(err))\n",
    "    \n",
    "# text = \"\"\n",
    "# with open(\"./MenuTest.txt\", encoding='utf8') as f:\n",
    "#     text = f.read()\n",
    "    "
   ]
  },
  {
   "cell_type": "code",
   "execution_count": 4,
   "id": "6628112f",
   "metadata": {},
   "outputs": [
    {
     "name": "stderr",
     "output_type": "stream",
     "text": [
      "Number of requested results 4 is greater than number of elements in index 1, updating n_results = 1\n"
     ]
    },
    {
     "data": {
      "text/plain": [
       "{'question': '烤面包多少钱？',\n",
       " 'answer': ' 烤面包的价格是$3.50.\\n',\n",
       " 'sources': './MenuTest.txt'}"
      ]
     },
     "execution_count": 4,
     "metadata": {},
     "output_type": "execute_result"
    }
   ],
   "source": [
    "query = \"烤面包多少钱？\"\n",
    "index.query_with_sources(query)"
   ]
  },
  {
   "cell_type": "code",
   "execution_count": 15,
   "id": "974f451a",
   "metadata": {},
   "outputs": [
    {
     "data": {
      "text/plain": [
       "<langchain.vectorstores.chroma.Chroma at 0x115067d60>"
      ]
     },
     "execution_count": 15,
     "metadata": {},
     "output_type": "execute_result"
    }
   ],
   "source": [
    "index.vectorstore"
   ]
  },
  {
   "cell_type": "code",
   "execution_count": null,
   "id": "aac2fefc",
   "metadata": {},
   "outputs": [],
   "source": []
  }
 ],
 "metadata": {
  "kernelspec": {
   "display_name": "Python 3 (ipykernel)",
   "language": "python",
   "name": "python3"
  },
  "language_info": {
   "codemirror_mode": {
    "name": "ipython",
    "version": 3
   },
   "file_extension": ".py",
   "mimetype": "text/x-python",
   "name": "python",
   "nbconvert_exporter": "python",
   "pygments_lexer": "ipython3",
   "version": "3.9.17"
  }
 },
 "nbformat": 4,
 "nbformat_minor": 5
}

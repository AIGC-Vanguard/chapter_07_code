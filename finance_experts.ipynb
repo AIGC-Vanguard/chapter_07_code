{
 "cells": [
  {
   "cell_type": "code",
   "execution_count": 1,
   "id": "1b8fa0f0",
   "metadata": {},
   "outputs": [
    {
     "name": "stdout",
     "output_type": "stream",
     "text": [
      "\u001b[33mDEPRECATION: Configuring installation scheme with distutils config files is deprecated and will no longer work in the near future. If you are using a Homebrew or Linuxbrew Python, please see discussion at https://github.com/Homebrew/homebrew-core/issues/76621\u001b[0m\u001b[33m\n",
      "\u001b[0mLooking in indexes: https://pypi.tuna.tsinghua.edu.cn/simple\n",
      "Requirement already satisfied: langchain in /opt/homebrew/lib/python3.9/site-packages (0.0.193)\n",
      "Requirement already satisfied: openai in /opt/homebrew/lib/python3.9/site-packages (0.27.8)\n",
      "Requirement already satisfied: chromadb in /opt/homebrew/lib/python3.9/site-packages (0.3.26)\n",
      "Requirement already satisfied: tiktoken in /opt/homebrew/lib/python3.9/site-packages (0.4.0)\n",
      "Requirement already satisfied: unstructured in /opt/homebrew/lib/python3.9/site-packages (0.7.1)\n",
      "Requirement already satisfied: tabulate in /opt/homebrew/lib/python3.9/site-packages (0.9.0)\n",
      "Requirement already satisfied: aiohttp<4.0.0,>=3.8.3 in /opt/homebrew/lib/python3.9/site-packages (from langchain) (3.8.4)\n",
      "Requirement already satisfied: requests<3,>=2 in /opt/homebrew/lib/python3.9/site-packages (from langchain) (2.31.0)\n",
      "Requirement already satisfied: SQLAlchemy<3,>=1.4 in /opt/homebrew/lib/python3.9/site-packages (from langchain) (2.0.15)\n",
      "Requirement already satisfied: langchainplus-sdk<0.0.5,>=0.0.4 in /opt/homebrew/lib/python3.9/site-packages (from langchain) (0.0.4)\n",
      "Requirement already satisfied: openapi-schema-pydantic<2.0,>=1.2 in /opt/homebrew/lib/python3.9/site-packages (from langchain) (1.2.4)\n",
      "Requirement already satisfied: async-timeout<5.0.0,>=4.0.0 in /opt/homebrew/lib/python3.9/site-packages (from langchain) (4.0.2)\n",
      "Requirement already satisfied: numexpr<3.0.0,>=2.8.4 in /opt/homebrew/lib/python3.9/site-packages (from langchain) (2.8.4)\n",
      "Requirement already satisfied: pydantic<2,>=1 in /opt/homebrew/lib/python3.9/site-packages (from langchain) (1.10.8)\n",
      "Requirement already satisfied: numpy<2,>=1 in /opt/homebrew/lib/python3.9/site-packages (from langchain) (1.23.5)\n",
      "Requirement already satisfied: PyYAML>=5.4.1 in /opt/homebrew/lib/python3.9/site-packages (from langchain) (6.0)\n",
      "Requirement already satisfied: tenacity<9.0.0,>=8.1.0 in /opt/homebrew/lib/python3.9/site-packages (from langchain) (8.2.2)\n",
      "Requirement already satisfied: dataclasses-json<0.6.0,>=0.5.7 in /opt/homebrew/lib/python3.9/site-packages (from langchain) (0.5.7)\n",
      "Requirement already satisfied: tqdm in /opt/homebrew/lib/python3.9/site-packages (from openai) (4.65.0)\n",
      "Requirement already satisfied: duckdb>=0.7.1 in /opt/homebrew/lib/python3.9/site-packages (from chromadb) (0.8.0)\n",
      "Requirement already satisfied: clickhouse-connect>=0.5.7 in /opt/homebrew/lib/python3.9/site-packages (from chromadb) (0.6.1)\n",
      "Requirement already satisfied: pandas>=1.3 in /opt/homebrew/lib/python3.9/site-packages (from chromadb) (1.5.3)\n",
      "Requirement already satisfied: uvicorn[standard]>=0.18.3 in /opt/homebrew/lib/python3.9/site-packages (from chromadb) (0.22.0)\n",
      "Requirement already satisfied: hnswlib>=0.7 in /opt/homebrew/lib/python3.9/site-packages (from chromadb) (0.7.0)\n",
      "Requirement already satisfied: overrides>=7.3.1 in /opt/homebrew/lib/python3.9/site-packages (from chromadb) (7.3.1)\n",
      "Requirement already satisfied: pulsar-client>=3.1.0 in /opt/homebrew/lib/python3.9/site-packages (from chromadb) (3.1.0)\n",
      "Requirement already satisfied: onnxruntime>=1.14.1 in /opt/homebrew/lib/python3.9/site-packages (from chromadb) (1.15.0)\n",
      "Requirement already satisfied: tokenizers>=0.13.2 in /opt/homebrew/lib/python3.9/site-packages (from chromadb) (0.13.3)\n",
      "Requirement already satisfied: posthog>=2.4.0 in /opt/homebrew/lib/python3.9/site-packages (from chromadb) (3.0.1)\n",
      "Requirement already satisfied: typing-extensions>=4.5.0 in /opt/homebrew/lib/python3.9/site-packages (from chromadb) (4.6.3)\n",
      "Requirement already satisfied: fastapi>=0.85.1 in /opt/homebrew/lib/python3.9/site-packages (from chromadb) (0.96.0)\n",
      "Requirement already satisfied: regex>=2022.1.18 in /opt/homebrew/lib/python3.9/site-packages (from tiktoken) (2023.5.5)\n",
      "Requirement already satisfied: pdfminer.six in /opt/homebrew/lib/python3.9/site-packages (from unstructured) (20221105)\n",
      "Requirement already satisfied: lxml in /opt/homebrew/lib/python3.9/site-packages (from unstructured) (4.9.2)\n",
      "Requirement already satisfied: pillow in /opt/homebrew/lib/python3.9/site-packages (from unstructured) (9.5.0)\n",
      "Requirement already satisfied: argilla in /opt/homebrew/lib/python3.9/site-packages (from unstructured) (1.8.0)\n",
      "Requirement already satisfied: xlrd in /opt/homebrew/lib/python3.9/site-packages (from unstructured) (2.0.1)\n",
      "Requirement already satisfied: msg-parser in /opt/homebrew/lib/python3.9/site-packages (from unstructured) (1.2.0)\n",
      "Requirement already satisfied: markdown in /opt/homebrew/lib/python3.9/site-packages (from unstructured) (3.4.3)\n",
      "Requirement already satisfied: python-pptx in /opt/homebrew/lib/python3.9/site-packages (from unstructured) (0.6.21)\n",
      "Requirement already satisfied: nltk in /opt/homebrew/lib/python3.9/site-packages (from unstructured) (3.8.1)\n",
      "Requirement already satisfied: openpyxl in /opt/homebrew/lib/python3.9/site-packages (from unstructured) (3.1.2)\n",
      "Requirement already satisfied: pypandoc in /opt/homebrew/lib/python3.9/site-packages (from unstructured) (1.11)\n",
      "Requirement already satisfied: python-docx in /opt/homebrew/lib/python3.9/site-packages (from unstructured) (0.8.11)\n",
      "Requirement already satisfied: python-magic in /opt/homebrew/lib/python3.9/site-packages (from unstructured) (0.4.27)\n",
      "Requirement already satisfied: chardet in /opt/homebrew/lib/python3.9/site-packages (from unstructured) (5.1.0)\n",
      "Requirement already satisfied: yarl<2.0,>=1.0 in /opt/homebrew/lib/python3.9/site-packages (from aiohttp<4.0.0,>=3.8.3->langchain) (1.9.2)\n",
      "Requirement already satisfied: charset-normalizer<4.0,>=2.0 in /opt/homebrew/lib/python3.9/site-packages (from aiohttp<4.0.0,>=3.8.3->langchain) (3.1.0)\n",
      "Requirement already satisfied: attrs>=17.3.0 in /opt/homebrew/lib/python3.9/site-packages (from aiohttp<4.0.0,>=3.8.3->langchain) (21.4.0)\n",
      "Requirement already satisfied: frozenlist>=1.1.1 in /opt/homebrew/lib/python3.9/site-packages (from aiohttp<4.0.0,>=3.8.3->langchain) (1.3.3)\n",
      "Requirement already satisfied: multidict<7.0,>=4.5 in /opt/homebrew/lib/python3.9/site-packages (from aiohttp<4.0.0,>=3.8.3->langchain) (6.0.4)\n",
      "Requirement already satisfied: aiosignal>=1.1.2 in /opt/homebrew/lib/python3.9/site-packages (from aiohttp<4.0.0,>=3.8.3->langchain) (1.3.1)\n",
      "Requirement already satisfied: certifi in /opt/homebrew/lib/python3.9/site-packages (from clickhouse-connect>=0.5.7->chromadb) (2023.5.7)\n",
      "Requirement already satisfied: lz4 in /opt/homebrew/lib/python3.9/site-packages (from clickhouse-connect>=0.5.7->chromadb) (4.3.2)\n",
      "Requirement already satisfied: pytz in /opt/homebrew/lib/python3.9/site-packages (from clickhouse-connect>=0.5.7->chromadb) (2023.3)\n",
      "Requirement already satisfied: zstandard in /opt/homebrew/lib/python3.9/site-packages (from clickhouse-connect>=0.5.7->chromadb) (0.21.0)\n",
      "Requirement already satisfied: urllib3>=1.26 in /opt/homebrew/lib/python3.9/site-packages (from clickhouse-connect>=0.5.7->chromadb) (2.0.2)\n",
      "Requirement already satisfied: marshmallow-enum<2.0.0,>=1.5.1 in /opt/homebrew/lib/python3.9/site-packages (from dataclasses-json<0.6.0,>=0.5.7->langchain) (1.5.1)\n",
      "Requirement already satisfied: marshmallow<4.0.0,>=3.3.0 in /opt/homebrew/lib/python3.9/site-packages (from dataclasses-json<0.6.0,>=0.5.7->langchain) (3.19.0)\n",
      "Requirement already satisfied: typing-inspect>=0.4.0 in /opt/homebrew/lib/python3.9/site-packages (from dataclasses-json<0.6.0,>=0.5.7->langchain) (0.9.0)\n",
      "Requirement already satisfied: starlette<0.28.0,>=0.27.0 in /opt/homebrew/lib/python3.9/site-packages (from fastapi>=0.85.1->chromadb) (0.27.0)\n",
      "Requirement already satisfied: protobuf in /opt/homebrew/lib/python3.9/site-packages (from onnxruntime>=1.14.1->chromadb) (4.23.2)\n",
      "Requirement already satisfied: coloredlogs in /opt/homebrew/lib/python3.9/site-packages (from onnxruntime>=1.14.1->chromadb) (15.0.1)\n",
      "Requirement already satisfied: sympy in /opt/homebrew/lib/python3.9/site-packages (from onnxruntime>=1.14.1->chromadb) (1.12)\n",
      "Requirement already satisfied: flatbuffers in /opt/homebrew/lib/python3.9/site-packages (from onnxruntime>=1.14.1->chromadb) (23.5.26)\n",
      "Requirement already satisfied: packaging in /opt/homebrew/lib/python3.9/site-packages (from onnxruntime>=1.14.1->chromadb) (21.3)\n"
     ]
    },
    {
     "name": "stdout",
     "output_type": "stream",
     "text": [
      "Requirement already satisfied: python-dateutil>=2.8.1 in /opt/homebrew/lib/python3.9/site-packages (from pandas>=1.3->chromadb) (2.8.2)\n",
      "Requirement already satisfied: six>=1.5 in /opt/homebrew/lib/python3.9/site-packages (from posthog>=2.4.0->chromadb) (1.16.0)\n",
      "Requirement already satisfied: backoff>=1.10.0 in /opt/homebrew/lib/python3.9/site-packages (from posthog>=2.4.0->chromadb) (2.2.1)\n",
      "Requirement already satisfied: monotonic>=1.5 in /opt/homebrew/lib/python3.9/site-packages (from posthog>=2.4.0->chromadb) (1.6)\n",
      "Requirement already satisfied: idna<4,>=2.5 in /opt/homebrew/lib/python3.9/site-packages (from requests<3,>=2->langchain) (3.4)\n",
      "Requirement already satisfied: h11>=0.8 in /opt/homebrew/lib/python3.9/site-packages (from uvicorn[standard]>=0.18.3->chromadb) (0.14.0)\n",
      "Requirement already satisfied: click>=7.0 in /opt/homebrew/lib/python3.9/site-packages (from uvicorn[standard]>=0.18.3->chromadb) (8.0.3)\n",
      "Requirement already satisfied: watchfiles>=0.13 in /opt/homebrew/lib/python3.9/site-packages (from uvicorn[standard]>=0.18.3->chromadb) (0.19.0)\n",
      "Requirement already satisfied: httptools>=0.5.0 in /opt/homebrew/lib/python3.9/site-packages (from uvicorn[standard]>=0.18.3->chromadb) (0.5.0)\n",
      "Requirement already satisfied: python-dotenv>=0.13 in /opt/homebrew/lib/python3.9/site-packages (from uvicorn[standard]>=0.18.3->chromadb) (1.0.0)\n",
      "Requirement already satisfied: uvloop!=0.15.0,!=0.15.1,>=0.14.0 in /opt/homebrew/lib/python3.9/site-packages (from uvicorn[standard]>=0.18.3->chromadb) (0.17.0)\n",
      "Requirement already satisfied: websockets>=10.4 in /opt/homebrew/lib/python3.9/site-packages (from uvicorn[standard]>=0.18.3->chromadb) (11.0.3)\n",
      "Requirement already satisfied: httpx<0.24,>=0.15 in /opt/homebrew/lib/python3.9/site-packages (from argilla->unstructured) (0.23.3)\n",
      "Requirement already satisfied: rich<=13.0.1 in /opt/homebrew/lib/python3.9/site-packages (from argilla->unstructured) (13.0.1)\n",
      "Requirement already satisfied: typer<1.0.0,>=0.6.0 in /opt/homebrew/lib/python3.9/site-packages (from argilla->unstructured) (0.9.0)\n",
      "Requirement already satisfied: deprecated~=1.2.0 in /opt/homebrew/lib/python3.9/site-packages (from argilla->unstructured) (1.2.14)\n",
      "Requirement already satisfied: wrapt<1.15,>=1.13 in /opt/homebrew/lib/python3.9/site-packages (from argilla->unstructured) (1.14.1)\n",
      "Requirement already satisfied: importlib-metadata>=4.4 in /opt/homebrew/lib/python3.9/site-packages (from markdown->unstructured) (6.6.0)\n",
      "Requirement already satisfied: olefile>=0.46 in /opt/homebrew/lib/python3.9/site-packages (from msg-parser->unstructured) (0.46)\n",
      "Requirement already satisfied: joblib in /opt/homebrew/lib/python3.9/site-packages (from nltk->unstructured) (1.2.0)\n",
      "Requirement already satisfied: et-xmlfile in /opt/homebrew/lib/python3.9/site-packages (from openpyxl->unstructured) (1.1.0)\n",
      "Requirement already satisfied: cryptography>=36.0.0 in /opt/homebrew/lib/python3.9/site-packages (from pdfminer.six->unstructured) (41.0.1)\n",
      "Requirement already satisfied: XlsxWriter>=0.5.7 in /opt/homebrew/lib/python3.9/site-packages (from python-pptx->unstructured) (3.1.2)\n",
      "Requirement already satisfied: cffi>=1.12 in /opt/homebrew/lib/python3.9/site-packages (from cryptography>=36.0.0->pdfminer.six->unstructured) (1.15.0)\n",
      "Requirement already satisfied: httpcore<0.17.0,>=0.15.0 in /opt/homebrew/lib/python3.9/site-packages (from httpx<0.24,>=0.15->argilla->unstructured) (0.16.3)\n",
      "Requirement already satisfied: sniffio in /opt/homebrew/lib/python3.9/site-packages (from httpx<0.24,>=0.15->argilla->unstructured) (1.3.0)\n",
      "Requirement already satisfied: rfc3986[idna2008]<2,>=1.3 in /opt/homebrew/lib/python3.9/site-packages (from httpx<0.24,>=0.15->argilla->unstructured) (1.5.0)\n",
      "Requirement already satisfied: zipp>=0.5 in /opt/homebrew/lib/python3.9/site-packages (from importlib-metadata>=4.4->markdown->unstructured) (3.15.0)\n",
      "Requirement already satisfied: pyparsing!=3.0.5,>=2.0.2 in /opt/homebrew/lib/python3.9/site-packages (from packaging->onnxruntime>=1.14.1->chromadb) (3.0.7)\n",
      "Requirement already satisfied: commonmark<0.10.0,>=0.9.0 in /opt/homebrew/lib/python3.9/site-packages (from rich<=13.0.1->argilla->unstructured) (0.9.1)\n",
      "Requirement already satisfied: pygments<3.0.0,>=2.6.0 in /opt/homebrew/lib/python3.9/site-packages (from rich<=13.0.1->argilla->unstructured) (2.11.2)\n",
      "Requirement already satisfied: anyio<5,>=3.4.0 in /opt/homebrew/lib/python3.9/site-packages (from starlette<0.28.0,>=0.27.0->fastapi>=0.85.1->chromadb) (3.7.0)\n",
      "Requirement already satisfied: mypy-extensions>=0.3.0 in /opt/homebrew/lib/python3.9/site-packages (from typing-inspect>=0.4.0->dataclasses-json<0.6.0,>=0.5.7->langchain) (0.4.3)\n",
      "Requirement already satisfied: humanfriendly>=9.1 in /opt/homebrew/lib/python3.9/site-packages (from coloredlogs->onnxruntime>=1.14.1->chromadb) (10.0)\n",
      "Requirement already satisfied: mpmath>=0.19 in /opt/homebrew/lib/python3.9/site-packages (from sympy->onnxruntime>=1.14.1->chromadb) (1.3.0)\n",
      "Requirement already satisfied: exceptiongroup in /opt/homebrew/lib/python3.9/site-packages (from anyio<5,>=3.4.0->starlette<0.28.0,>=0.27.0->fastapi>=0.85.1->chromadb) (1.1.1)\n",
      "Requirement already satisfied: pycparser in /opt/homebrew/lib/python3.9/site-packages (from cffi>=1.12->cryptography>=36.0.0->pdfminer.six->unstructured) (2.21)\n",
      "\u001b[33mDEPRECATION: Configuring installation scheme with distutils config files is deprecated and will no longer work in the near future. If you are using a Homebrew or Linuxbrew Python, please see discussion at https://github.com/Homebrew/homebrew-core/issues/76621\u001b[0m\u001b[33m\n",
      "\u001b[0m\n",
      "\u001b[1m[\u001b[0m\u001b[34;49mnotice\u001b[0m\u001b[1;39;49m]\u001b[0m\u001b[39;49m A new release of pip available: \u001b[0m\u001b[31;49m22.3.1\u001b[0m\u001b[39;49m -> \u001b[0m\u001b[32;49m23.1.2\u001b[0m\n",
      "\u001b[1m[\u001b[0m\u001b[34;49mnotice\u001b[0m\u001b[1;39;49m]\u001b[0m\u001b[39;49m To update, run: \u001b[0m\u001b[32;49mpython3.9 -m pip install --upgrade pip\u001b[0m\n"
     ]
    }
   ],
   "source": [
    "!pip install langchain openai chromadb tiktoken unstructured tabulate"
   ]
  },
  {
   "cell_type": "code",
   "execution_count": 2,
   "id": "f8daab66",
   "metadata": {},
   "outputs": [],
   "source": [
    "# OpenAI AI2D 代理\n",
    "# from langchain import PromptTemplate, OpenAI, LLMChain\n",
    "import os\n",
    "import llm_config\n",
    "\n",
    "os.environ['OPENAI_API_BASE'] = llm_config.MY_OPENAI_API_BASE\n",
    "os.environ['OPENAI_API_KEY'] = llm_config.MY_OPENAI_API_KEY\n",
    "os.environ[\"LANGCHAIN_TRACING\"] = \"true\"\n",
    "\n",
    "\n",
    "# llm=OpenAI()"
   ]
  },
  {
   "cell_type": "code",
   "execution_count": 3,
   "id": "9a6b48cb",
   "metadata": {},
   "outputs": [],
   "source": [
    "from langchain.document_loaders import TextLoader\n",
    "\n",
    "\n",
    "loader = TextLoader('./2023Q1_alphabet_earnings_release.pdf.txt', encoding='utf8')"
   ]
  },
  {
   "cell_type": "code",
   "execution_count": 4,
   "id": "58e3d5dd",
   "metadata": {},
   "outputs": [],
   "source": [
    "from langchain.indexes import VectorstoreIndexCreator\n",
    "\n",
    "\n",
    "index = VectorstoreIndexCreator().from_loaders([loader])"
   ]
  },
  {
   "cell_type": "code",
   "execution_count": 5,
   "id": "1c33b167",
   "metadata": {},
   "outputs": [
    {
     "name": "stderr",
     "output_type": "stream",
     "text": [
      "WARNING:root:Failed to load default session, using empty session: HTTPConnectionPool(host='localhost', port=8000): Max retries exceeded with url: /sessions?name=default (Caused by NewConnectionError('<urllib3.connection.HTTPConnection object at 0x11f3d55b0>: Failed to establish a new connection: [Errno 61] Connection refused'))\n",
      "WARNING:root:Failed to persist run: HTTPConnectionPool(host='localhost', port=8000): Max retries exceeded with url: /chain-runs (Caused by NewConnectionError('<urllib3.connection.HTTPConnection object at 0x11f3d5af0>: Failed to establish a new connection: [Errno 61] Connection refused'))\n"
     ]
    },
    {
     "data": {
      "text/plain": [
       "{'question': 'Alphabet 最近收入怎么样？',\n",
       " 'answer': ' Alphabet reported consolidated revenues of $69.8 billion in the first quarter of 2023, up 3% year over year, or up 6% in constant currency.\\n',\n",
       " 'sources': './2023Q1_alphabet_earnings_release.pdf.txt'}"
      ]
     },
     "execution_count": 5,
     "metadata": {},
     "output_type": "execute_result"
    }
   ],
   "source": [
    "query = \"Alphabet 最近收入怎么样？\"\n",
    "index.query_with_sources(query)"
   ]
  },
  {
   "cell_type": "code",
   "execution_count": 6,
   "id": "4220cecf",
   "metadata": {},
   "outputs": [
    {
     "name": "stderr",
     "output_type": "stream",
     "text": [
      "WARNING:root:Failed to load default session, using empty session: HTTPConnectionPool(host='localhost', port=8000): Max retries exceeded with url: /sessions?name=default (Caused by NewConnectionError('<urllib3.connection.HTTPConnection object at 0x11f353070>: Failed to establish a new connection: [Errno 61] Connection refused'))\n",
      "WARNING:root:Failed to persist run: HTTPConnectionPool(host='localhost', port=8000): Max retries exceeded with url: /chain-runs (Caused by NewConnectionError('<urllib3.connection.HTTPConnection object at 0x11f1b9e50>: Failed to establish a new connection: [Errno 61] Connection refused'))\n"
     ]
    },
    {
     "data": {
      "text/plain": [
       "{'question': 'Alphabet 雇员总数有多少？',\n",
       " 'answer': ' As of March 31, 2023, Alphabet had 163,906 employees.\\n',\n",
       " 'sources': './2023Q1_alphabet_earnings_release.pdf.txt'}"
      ]
     },
     "execution_count": 6,
     "metadata": {},
     "output_type": "execute_result"
    }
   ],
   "source": [
    "index.query_with_sources(\"Alphabet 雇员总数有多少？\")"
   ]
  },
  {
   "cell_type": "code",
   "execution_count": 7,
   "id": "1b160dec",
   "metadata": {},
   "outputs": [
    {
     "name": "stderr",
     "output_type": "stream",
     "text": [
      "WARNING:root:Failed to load default session, using empty session: HTTPConnectionPool(host='localhost', port=8000): Max retries exceeded with url: /sessions?name=default (Caused by NewConnectionError('<urllib3.connection.HTTPConnection object at 0x10ba54580>: Failed to establish a new connection: [Errno 61] Connection refused'))\n",
      "WARNING:root:Failed to persist run: HTTPConnectionPool(host='localhost', port=8000): Max retries exceeded with url: /chain-runs (Caused by NewConnectionError('<urllib3.connection.HTTPConnection object at 0x11f1abe20>: Failed to establish a new connection: [Errno 61] Connection refused'))\n"
     ]
    },
    {
     "data": {
      "text/plain": [
       "{'question': 'Alphabet 最近有哪些经营风险？',\n",
       " 'answer': \" Alphabet's recent risks of operation include potential risks and uncertainties related to its performance, repurchases, and workforce and office space reductions.\\n\",\n",
       " 'sources': './2023Q1_alphabet_earnings_release.pdf.txt'}"
      ]
     },
     "execution_count": 7,
     "metadata": {},
     "output_type": "execute_result"
    }
   ],
   "source": [
    "index.query_with_sources(\"Alphabet 最近有哪些经营风险？\")"
   ]
  },
  {
   "cell_type": "code",
   "execution_count": 8,
   "id": "2230de0f",
   "metadata": {},
   "outputs": [
    {
     "name": "stderr",
     "output_type": "stream",
     "text": [
      "WARNING:root:Failed to load default session, using empty session: HTTPConnectionPool(host='localhost', port=8000): Max retries exceeded with url: /sessions?name=default (Caused by NewConnectionError('<urllib3.connection.HTTPConnection object at 0x11f3519a0>: Failed to establish a new connection: [Errno 61] Connection refused'))\n",
      "WARNING:root:Failed to persist run: HTTPConnectionPool(host='localhost', port=8000): Max retries exceeded with url: /chain-runs (Caused by NewConnectionError('<urllib3.connection.HTTPConnection object at 0x11f334fd0>: Failed to establish a new connection: [Errno 61] Connection refused'))\n"
     ]
    },
    {
     "data": {
      "text/plain": [
       "{'question': 'Alphabet 有哪些竞争压力？',\n",
       " 'answer': ' Alphabet faces competitive pressures from other tech companies, as well as risks and uncertainties related to its stock-based compensation expense, repurchase of its Class A and Class C shares, and cost allocation methodologies.\\n',\n",
       " 'sources': './2023Q1_alphabet_earnings_release.pdf.txt'}"
      ]
     },
     "execution_count": 8,
     "metadata": {},
     "output_type": "execute_result"
    }
   ],
   "source": [
    "index.query_with_sources(\"Alphabet 有哪些竞争压力？\")"
   ]
  },
  {
   "cell_type": "code",
   "execution_count": 9,
   "id": "d0ba670a",
   "metadata": {},
   "outputs": [
    {
     "name": "stderr",
     "output_type": "stream",
     "text": [
      "WARNING:root:Failed to load default session, using empty session: HTTPConnectionPool(host='localhost', port=8000): Max retries exceeded with url: /sessions?name=default (Caused by NewConnectionError('<urllib3.connection.HTTPConnection object at 0x11f3537c0>: Failed to establish a new connection: [Errno 61] Connection refused'))\n",
      "WARNING:root:Failed to persist run: HTTPConnectionPool(host='localhost', port=8000): Max retries exceeded with url: /chain-runs (Caused by NewConnectionError('<urllib3.connection.HTTPConnection object at 0x11f1b9a60>: Failed to establish a new connection: [Errno 61] Connection refused'))\n"
     ]
    },
    {
     "data": {
      "text/plain": [
       "{'question': 'Alphabet 平均每个雇员创造的利润是多少？',\n",
       " 'answer': ' Alphabet does not provide information on the average profit created by each employee.\\n',\n",
       " 'sources': './2023Q1_alphabet_earnings_release.pdf.txt'}"
      ]
     },
     "execution_count": 9,
     "metadata": {},
     "output_type": "execute_result"
    }
   ],
   "source": [
    "index.query_with_sources(\"Alphabet 平均每个雇员创造的利润是多少？\")"
   ]
  },
  {
   "cell_type": "code",
   "execution_count": 10,
   "id": "4a7897b5",
   "metadata": {},
   "outputs": [
    {
     "name": "stderr",
     "output_type": "stream",
     "text": [
      "WARNING:root:Failed to load default session, using empty session: HTTPConnectionPool(host='localhost', port=8000): Max retries exceeded with url: /sessions?name=default (Caused by NewConnectionError('<urllib3.connection.HTTPConnection object at 0x108148f40>: Failed to establish a new connection: [Errno 61] Connection refused'))\n",
      "WARNING:root:Failed to persist run: HTTPConnectionPool(host='localhost', port=8000): Max retries exceeded with url: /chain-runs (Caused by NewConnectionError('<urllib3.connection.HTTPConnection object at 0x11f1a1d90>: Failed to establish a new connection: [Errno 61] Connection refused'))\n"
     ]
    },
    {
     "data": {
      "text/plain": [
       "{'question': 'Alphabet 2023 Q1 总利润是多少？',\n",
       " 'answer': ' Alphabet 2023 Q1 总利润是15,051百万美元。\\n',\n",
       " 'sources': './2023Q1_alphabet_earnings_release.pdf.txt'}"
      ]
     },
     "execution_count": 10,
     "metadata": {},
     "output_type": "execute_result"
    }
   ],
   "source": [
    "index.query_with_sources(\"Alphabet 2023 Q1 总利润是多少？\")"
   ]
  },
  {
   "cell_type": "code",
   "execution_count": 11,
   "id": "460f7a38",
   "metadata": {},
   "outputs": [
    {
     "name": "stderr",
     "output_type": "stream",
     "text": [
      "WARNING:root:Failed to load default session, using empty session: HTTPConnectionPool(host='localhost', port=8000): Max retries exceeded with url: /sessions?name=default (Caused by NewConnectionError('<urllib3.connection.HTTPConnection object at 0x11f3d5be0>: Failed to establish a new connection: [Errno 61] Connection refused'))\n",
      "WARNING:root:Failed to persist run: HTTPConnectionPool(host='localhost', port=8000): Max retries exceeded with url: /chain-runs (Caused by NewConnectionError('<urllib3.connection.HTTPConnection object at 0x11f3536a0>: Failed to establish a new connection: [Errno 61] Connection refused'))\n"
     ]
    },
    {
     "data": {
      "text/plain": [
       "{'question': 'Alphabet 2023 Q1 广告收入是多少？',\n",
       " 'answer': \" Alphabet's 2023 Q1 advertising revenue was $54.6 billion.\\n\",\n",
       " 'sources': './2023Q1_alphabet_earnings_release.pdf.txt'}"
      ]
     },
     "execution_count": 11,
     "metadata": {},
     "output_type": "execute_result"
    }
   ],
   "source": [
    "index.query_with_sources(\"Alphabet 2023 Q1 广告收入是多少？\")"
   ]
  },
  {
   "cell_type": "code",
   "execution_count": 12,
   "id": "3038880b",
   "metadata": {},
   "outputs": [
    {
     "name": "stderr",
     "output_type": "stream",
     "text": [
      "WARNING:root:Failed to load default session, using empty session: HTTPConnectionPool(host='localhost', port=8000): Max retries exceeded with url: /sessions?name=default (Caused by NewConnectionError('<urllib3.connection.HTTPConnection object at 0x11f1a1610>: Failed to establish a new connection: [Errno 61] Connection refused'))\n",
      "WARNING:root:Failed to persist run: HTTPConnectionPool(host='localhost', port=8000): Max retries exceeded with url: /chain-runs (Caused by NewConnectionError('<urllib3.connection.HTTPConnection object at 0x11f351f70>: Failed to establish a new connection: [Errno 61] Connection refused'))\n"
     ]
    },
    {
     "data": {
      "text/plain": [
       "{'question': 'Alphabet 未来股价上涨和下跌哪个可能性更大？',\n",
       " 'answer': \" It is not possible to determine which possibility is more likely for Alphabet's future stock price.\\n\",\n",
       " 'sources': './2023Q1_alphabet_earnings_release.pdf.txt'}"
      ]
     },
     "execution_count": 12,
     "metadata": {},
     "output_type": "execute_result"
    }
   ],
   "source": [
    "index.query_with_sources(\"Alphabet 未来股价上涨和下跌哪个可能性更大？\")"
   ]
  },
  {
   "cell_type": "code",
   "execution_count": 13,
   "id": "2f3d616f",
   "metadata": {},
   "outputs": [
    {
     "name": "stderr",
     "output_type": "stream",
     "text": [
      "WARNING:root:Failed to load default session, using empty session: HTTPConnectionPool(host='localhost', port=8000): Max retries exceeded with url: /sessions?name=default (Caused by NewConnectionError('<urllib3.connection.HTTPConnection object at 0x11f1b9430>: Failed to establish a new connection: [Errno 61] Connection refused'))\n",
      "WARNING:root:Failed to persist run: HTTPConnectionPool(host='localhost', port=8000): Max retries exceeded with url: /chain-runs (Caused by NewConnectionError('<urllib3.connection.HTTPConnection object at 0x11f1a9af0>: Failed to establish a new connection: [Errno 61] Connection refused'))\n"
     ]
    },
    {
     "data": {
      "text/plain": [
       "{'question': 'Alphabet 未来股价上涨和下跌的可能原因是什么？',\n",
       " 'answer': \" Alphabet's future stock price could be affected by changes in its business performance, potential risks and uncertainties, stock repurchases, and changes in its workforce and office space.\\n\",\n",
       " 'sources': './2023Q1_alphabet_earnings_release.pdf.txt'}"
      ]
     },
     "execution_count": 13,
     "metadata": {},
     "output_type": "execute_result"
    }
   ],
   "source": [
    "index.query_with_sources(\"Alphabet 未来股价上涨和下跌的可能原因是什么？\")"
   ]
  },
  {
   "cell_type": "code",
   "execution_count": 14,
   "id": "b7d1da84",
   "metadata": {},
   "outputs": [
    {
     "name": "stderr",
     "output_type": "stream",
     "text": [
      "WARNING:root:Failed to load default session, using empty session: HTTPConnectionPool(host='localhost', port=8000): Max retries exceeded with url: /sessions?name=default (Caused by NewConnectionError('<urllib3.connection.HTTPConnection object at 0x11f3d56a0>: Failed to establish a new connection: [Errno 61] Connection refused'))\n",
      "WARNING:root:Failed to persist run: HTTPConnectionPool(host='localhost', port=8000): Max retries exceeded with url: /chain-runs (Caused by NewConnectionError('<urllib3.connection.HTTPConnection object at 0x11f1a9b20>: Failed to establish a new connection: [Errno 61] Connection refused'))\n"
     ]
    },
    {
     "data": {
      "text/plain": [
       "{'question': 'Alphabet 雇员总数有怎样的变化？',\n",
       " 'answer': \" Alphabet's number of employees increased from 163,906 to 190,711.\\n\",\n",
       " 'sources': './2023Q1_alphabet_earnings_release.pdf.txt'}"
      ]
     },
     "execution_count": 14,
     "metadata": {},
     "output_type": "execute_result"
    }
   ],
   "source": [
    "index.query_with_sources(\"Alphabet 雇员总数有怎样的变化？\")"
   ]
  },
  {
   "cell_type": "code",
   "execution_count": 15,
   "id": "6f7b4bfe",
   "metadata": {},
   "outputs": [
    {
     "name": "stderr",
     "output_type": "stream",
     "text": [
      "WARNING:root:Failed to load default session, using empty session: HTTPConnectionPool(host='localhost', port=8000): Max retries exceeded with url: /sessions?name=default (Caused by NewConnectionError('<urllib3.connection.HTTPConnection object at 0x11f1b16d0>: Failed to establish a new connection: [Errno 61] Connection refused'))\n",
      "WARNING:root:Failed to persist run: HTTPConnectionPool(host='localhost', port=8000): Max retries exceeded with url: /chain-runs (Caused by NewConnectionError('<urllib3.connection.HTTPConnection object at 0x11f1a9100>: Failed to establish a new connection: [Errno 61] Connection refused'))\n"
     ]
    },
    {
     "data": {
      "text/plain": [
       "{'question': 'Alphabet 2023 搜索收入是多少？',\n",
       " 'answer': ' Alphabet 2023 搜索收入是 $40,359 百万。\\n',\n",
       " 'sources': './2023Q1_alphabet_earnings_release.pdf.txt'}"
      ]
     },
     "execution_count": 15,
     "metadata": {},
     "output_type": "execute_result"
    }
   ],
   "source": [
    "index.query_with_sources(\"Alphabet 2023 搜索收入是多少？\")"
   ]
  },
  {
   "cell_type": "code",
   "execution_count": 16,
   "id": "2e1b737e",
   "metadata": {},
   "outputs": [
    {
     "name": "stderr",
     "output_type": "stream",
     "text": [
      "WARNING:root:Failed to load default session, using empty session: HTTPConnectionPool(host='localhost', port=8000): Max retries exceeded with url: /sessions?name=default (Caused by NewConnectionError('<urllib3.connection.HTTPConnection object at 0x11f1a1940>: Failed to establish a new connection: [Errno 61] Connection refused'))\n",
      "WARNING:root:Failed to persist run: HTTPConnectionPool(host='localhost', port=8000): Max retries exceeded with url: /chain-runs (Caused by NewConnectionError('<urllib3.connection.HTTPConnection object at 0x11f351490>: Failed to establish a new connection: [Errno 61] Connection refused'))\n"
     ]
    },
    {
     "data": {
      "text/plain": [
       "{'question': 'Alphabet 2023 的赢利点是什么？',\n",
       " 'answer': ' Alphabet 2023 的赢利点是搜索表现良好和云势头的动力。\\n',\n",
       " 'sources': './2023Q1_alphabet_earnings_release.pdf.txt'}"
      ]
     },
     "execution_count": 16,
     "metadata": {},
     "output_type": "execute_result"
    }
   ],
   "source": [
    "index.query_with_sources(\"Alphabet 2023 的赢利点是什么？\")"
   ]
  },
  {
   "cell_type": "code",
   "execution_count": 17,
   "id": "da36baae",
   "metadata": {},
   "outputs": [
    {
     "name": "stderr",
     "output_type": "stream",
     "text": [
      "WARNING:root:Failed to load default session, using empty session: HTTPConnectionPool(host='localhost', port=8000): Max retries exceeded with url: /sessions?name=default (Caused by NewConnectionError('<urllib3.connection.HTTPConnection object at 0x11f1a1640>: Failed to establish a new connection: [Errno 61] Connection refused'))\n",
      "WARNING:root:Failed to persist run: HTTPConnectionPool(host='localhost', port=8000): Max retries exceeded with url: /chain-runs (Caused by NewConnectionError('<urllib3.connection.HTTPConnection object at 0x11f1b9430>: Failed to establish a new connection: [Errno 61] Connection refused'))\n"
     ]
    },
    {
     "data": {
      "text/plain": [
       "{'question': 'Alphabet 2023 的赢利点是什么？请给出原始信息依据',\n",
       " 'answer': ' Alphabet 2023 的赢利点是 Google Services、Google Cloud 和减少成本的能力。\\n',\n",
       " 'sources': './2023Q1_alphabet_earnings_release.pdf.txt'}"
      ]
     },
     "execution_count": 17,
     "metadata": {},
     "output_type": "execute_result"
    }
   ],
   "source": [
    "index.query_with_sources(\"Alphabet 2023 的赢利点是什么？请给出原始信息依据\")"
   ]
  },
  {
   "cell_type": "code",
   "execution_count": 18,
   "id": "d87bb1c0",
   "metadata": {},
   "outputs": [
    {
     "name": "stderr",
     "output_type": "stream",
     "text": [
      "WARNING:root:Failed to load default session, using empty session: HTTPConnectionPool(host='localhost', port=8000): Max retries exceeded with url: /sessions?name=default (Caused by NewConnectionError('<urllib3.connection.HTTPConnection object at 0x11f1a9760>: Failed to establish a new connection: [Errno 61] Connection refused'))\n",
      "WARNING:root:Failed to persist run: HTTPConnectionPool(host='localhost', port=8000): Max retries exceeded with url: /chain-runs (Caused by NewConnectionError('<urllib3.connection.HTTPConnection object at 0x11f4e2640>: Failed to establish a new connection: [Errno 61] Connection refused'))\n"
     ]
    },
    {
     "data": {
      "text/plain": [
       "{'question': 'Alphabet 2023 的风险是什么？请给出原始信息依据',\n",
       " 'answer': ' Alphabet 2023 的风险包括：投资者可以在公司年度报告中查看的“风险因素”和“管理层财务状况和经营结果讨论”，以及可能导致实际结果与预测结果不同的其他潜在风险和不确定性。\\n',\n",
       " 'sources': './2023Q1_alphabet_earnings_release.pdf.txt'}"
      ]
     },
     "execution_count": 18,
     "metadata": {},
     "output_type": "execute_result"
    }
   ],
   "source": [
    "index.query_with_sources(\"Alphabet 2023 的风险是什么？请给出原始信息依据\")"
   ]
  },
  {
   "cell_type": "code",
   "execution_count": 19,
   "id": "eb76758f",
   "metadata": {},
   "outputs": [
    {
     "name": "stderr",
     "output_type": "stream",
     "text": [
      "WARNING:root:Failed to load default session, using empty session: HTTPConnectionPool(host='localhost', port=8000): Max retries exceeded with url: /sessions?name=default (Caused by NewConnectionError('<urllib3.connection.HTTPConnection object at 0x11f1a18b0>: Failed to establish a new connection: [Errno 61] Connection refused'))\n",
      "WARNING:root:Failed to persist run: HTTPConnectionPool(host='localhost', port=8000): Max retries exceeded with url: /chain-runs (Caused by NewConnectionError('<urllib3.connection.HTTPConnection object at 0x12241efa0>: Failed to establish a new connection: [Errno 61] Connection refused'))\n"
     ]
    },
    {
     "data": {
      "text/plain": [
       "{'question': 'What is the risk of Alphabet in 2023',\n",
       " 'answer': \" The risk of Alphabet in 2023 is uncertain and includes risks and uncertainties related to the company's financial condition and results of operations, stock-based compensation expense, and stock repurchases.\\n\",\n",
       " 'sources': './2023Q1_alphabet_earnings_release.pdf.txt'}"
      ]
     },
     "execution_count": 19,
     "metadata": {},
     "output_type": "execute_result"
    }
   ],
   "source": [
    "index.query_with_sources(\"What is the risk of Alphabet in 2023\")"
   ]
  },
  {
   "cell_type": "code",
   "execution_count": null,
   "id": "4b05807b",
   "metadata": {},
   "outputs": [],
   "source": []
  }
 ],
 "metadata": {
  "kernelspec": {
   "display_name": "Python 3 (ipykernel)",
   "language": "python",
   "name": "python3"
  },
  "language_info": {
   "codemirror_mode": {
    "name": "ipython",
    "version": 3
   },
   "file_extension": ".py",
   "mimetype": "text/x-python",
   "name": "python",
   "nbconvert_exporter": "python",
   "pygments_lexer": "ipython3",
   "version": "3.9.17"
  }
 },
 "nbformat": 4,
 "nbformat_minor": 5
}
